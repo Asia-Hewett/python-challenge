{
 "cells": [
  {
   "cell_type": "markdown",
   "metadata": {},
   "source": [
    "# Python Functions Practice\n",
    "## Source: Amigoscode Youtube Channel\n",
    "### https://www.youtube.com/watch?v=-FXLwjugI_Q&list=PLwvrYc43l1MzSBvslCMVZGtLLaZTq3VTG"
   ]
  },
  {
   "cell_type": "code",
   "execution_count": 1,
   "metadata": {},
   "outputs": [
    {
     "name": "stdout",
     "output_type": "stream",
     "text": [
      "What is your name? Asia\n",
      "Hello, Asia\n"
     ]
    }
   ],
   "source": [
    "name = input('What is your name? ')\n",
    "\n",
    "print('Hello, ' + name)"
   ]
  },
  {
   "cell_type": "markdown",
   "metadata": {},
   "source": [
    "### Learning Variables"
   ]
  },
  {
   "cell_type": "code",
   "execution_count": 2,
   "metadata": {},
   "outputs": [],
   "source": [
    "name = 'Europe' # Each variable has a unique data type\n",
    "age = 4500\n",
    "pi = 3.14 \n",
    "cars = ['BMW', 'Mercedes', 'Range Rover'] # This is a list data type and lists allow you to store more than one value"
   ]
  },
  {
   "cell_type": "code",
   "execution_count": 3,
   "metadata": {},
   "outputs": [
    {
     "name": "stdout",
     "output_type": "stream",
     "text": [
      "Europe\n",
      "4500\n",
      "3.14\n",
      "['BMW', 'Mercedes', 'Range Rover']\n"
     ]
    }
   ],
   "source": [
    "print(name)\n",
    "print(age)\n",
    "print(pi)\n",
    "print(cars)"
   ]
  },
  {
   "cell_type": "markdown",
   "metadata": {},
   "source": [
    "### Strings"
   ]
  },
  {
   "cell_type": "code",
   "execution_count": 9,
   "metadata": {},
   "outputs": [
    {
     "name": "stdout",
     "output_type": "stream",
     "text": [
      "Asia Hewett\n",
      "11\n",
      "6\n",
      "False\n"
     ]
    }
   ],
   "source": [
    "first_name = 'Asia'\n",
    "surname = 'Hewett'\n",
    "\n",
    "full_name = first_name.capitalize() + ' ' + surname\n",
    "\n",
    "print(full_name)\n",
    "print(len(full_name))\n",
    "print(len(surname))\n",
    "print(full_name.endswith('Hello'))"
   ]
  },
  {
   "cell_type": "markdown",
   "metadata": {},
   "source": [
    "### Working With Numbers"
   ]
  },
  {
   "cell_type": "code",
   "execution_count": 10,
   "metadata": {},
   "outputs": [
    {
     "name": "stdout",
     "output_type": "stream",
     "text": [
      "15\n"
     ]
    }
   ],
   "source": [
    "# Adding two numbers\n",
    "addition = 10 + 5\n",
    "print(addition)"
   ]
  },
  {
   "cell_type": "code",
   "execution_count": 11,
   "metadata": {},
   "outputs": [
    {
     "name": "stdout",
     "output_type": "stream",
     "text": [
      "5\n"
     ]
    }
   ],
   "source": [
    "# Subtracting two numbers\n",
    "subtraction = 10 - 5\n",
    "print(subtraction)"
   ]
  },
  {
   "cell_type": "code",
   "execution_count": 12,
   "metadata": {},
   "outputs": [
    {
     "name": "stdout",
     "output_type": "stream",
     "text": [
      "50\n"
     ]
    }
   ],
   "source": [
    "# Multiplying two numbers\n",
    "multiplication = 10 * 5\n",
    "print(multiplication)"
   ]
  },
  {
   "cell_type": "code",
   "execution_count": 13,
   "metadata": {},
   "outputs": [
    {
     "name": "stdout",
     "output_type": "stream",
     "text": [
      "2.0\n"
     ]
    }
   ],
   "source": [
    "# Dividing two numbers\n",
    "division = 10 / 5\n",
    "print(division)"
   ]
  },
  {
   "cell_type": "code",
   "execution_count": 19,
   "metadata": {},
   "outputs": [
    {
     "name": "stdout",
     "output_type": "stream",
     "text": [
      "Three goes into ten, three times, and the remainder is... 1\n"
     ]
    }
   ],
   "source": [
    "# Using Modulus\n",
    "mod = 10 % 3\n",
    "\n",
    "# Modulus is the remainder\n",
    "print('Three goes into ten three times, and the remainder is...', mod)"
   ]
  }
 ],
 "metadata": {
  "kernelspec": {
   "display_name": "Python 3",
   "language": "python",
   "name": "python3"
  },
  "language_info": {
   "codemirror_mode": {
    "name": "ipython",
    "version": 3
   },
   "file_extension": ".py",
   "mimetype": "text/x-python",
   "name": "python",
   "nbconvert_exporter": "python",
   "pygments_lexer": "ipython3",
   "version": "3.7.6"
  }
 },
 "nbformat": 4,
 "nbformat_minor": 4
}
